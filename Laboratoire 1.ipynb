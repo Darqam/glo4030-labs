{
 "cells": [
  {
   "cell_type": "markdown",
   "metadata": {
    "deletable": true,
    "editable": true
   },
   "source": [
    "# Laboratoire 1: Introduction au Deep learning\n",
    "\n",
    "Le but de se laboratoire est de se familiariser avec Pytorch en l'utilisant pour faire du classement sur deux jeux de données connus: MNIST et CIFAR-10.\n",
    "\n",
    "## Mnist"
   ]
  },
  {
   "cell_type": "code",
   "execution_count": null,
   "metadata": {
    "collapsed": true,
    "deletable": true,
    "editable": true
   },
   "outputs": [],
   "source": [
    "import random\n",
    "import numpy as np\n",
    "import torch.nn as nn\n",
    "import torch.optim as optim\n",
    "import time\n",
    "import matplotlib.pyplot as plt\n",
    "%matplotlib inline\n",
    "\n",
    "from deeplib.datasets import load_mnist, load_cifar10, Dataset\n",
    "from sklearn.metrics import accuracy_score\n",
    "from deeplib.net import MnistNet, CifarNet\n",
    "from deeplib.history import History\n",
    "from deeplib.visualization import plot_images"
   ]
  },
  {
   "cell_type": "markdown",
   "metadata": {
    "deletable": true,
    "editable": true
   },
   "source": [
    "Mnist est jeu de données contenant des images de chiffres manuscrits.<br>\n",
    "Le jeu de donnée est séparé comme suit: 50000 images sont utilisées en entraînement et 10000 en test.<br> \n",
    "Afin d'accélérer les calculs, nous commencerons par charger uniquement 1000 images pour l'entraînement.<br>\n",
    "Nous allons aussi charger 1000 autres images pour créer un ensemble de validation qui nous permettra d'estimer, pendant l'entraînement, les capacités de généralisation de notre modèle."
   ]
  },
  {
   "cell_type": "code",
   "execution_count": null,
   "metadata": {
    "collapsed": true,
    "deletable": true,
    "editable": true
   },
   "outputs": [],
   "source": [
    "mnist = load_mnist()\n",
    "train_set = Dataset(mnist[:1000])\n",
    "val_set = Dataset(mnist[1000:2000])\n",
    "test_set = load_mnist(train=False)"
   ]
  },
  {
   "cell_type": "markdown",
   "metadata": {
    "deletable": true,
    "editable": true
   },
   "source": [
    "Vous pouvez exécuter cette cellule pour visualiser le jeu de donnée."
   ]
  },
  {
   "cell_type": "code",
   "execution_count": null,
   "metadata": {
    "collapsed": true,
    "deletable": true,
    "editable": true,
    "scrolled": true
   },
   "outputs": [],
   "source": [
    "idx = random.sample([x for x in range(len(train_set))], 9)\n",
    "images = [np.array(train_set[i][0]) for i in idx]\n",
    "targets = [train_set[i][1] for i in idx]\n",
    "\n",
    "plot_images(images, targets, gray=True)"
   ]
  },
  {
   "cell_type": "markdown",
   "metadata": {
    "deletable": true,
    "editable": true
   },
   "source": [
    "## Entraînement"
   ]
  },
  {
   "cell_type": "markdown",
   "metadata": {
    "deletable": true,
    "editable": true
   },
   "source": [
    "Pour l'entraînement, nous avons besoin d'une fonction validate qui nous permettra d'estimer la performance de notre modèle et d'une fonction train pour faire l'entraînement.\n",
    "\n",
    "Pour chaque image du jeu de donnée, la fonction validate fait prédire une classe au réseau entraîné et compare le résultat avec la vraie réponse. Elle retourne le pourcentage de réponse correcte."
   ]
  },
  {
   "cell_type": "code",
   "execution_count": null,
   "metadata": {
    "collapsed": true,
    "deletable": true,
    "editable": true
   },
   "outputs": [],
   "source": [
    "def validate(model, dataset, use_gpu=False):\n",
    "    true =[]\n",
    "    pred = []\n",
    "    val_loss = []\n",
    "    criterion = nn.CrossEntropyLoss()\n",
    "    for j in range(len(dataset) // batch_size):\n",
    "        inputs, targets = dataset.get_mini_batch(batch_size, use_gpu)\n",
    "        output = model(inputs)\n",
    "        val_loss.append(criterion(output, targets).data[0])\n",
    "        predictions = output.max(dim=1)[1]\n",
    "        true.extend(targets.data.cpu().numpy().tolist())\n",
    "        pred.extend(predictions.data.cpu().numpy().tolist())\n",
    "\n",
    "    return accuracy_score(true, pred) * 100, sum(val_loss) / len(val_loss)"
   ]
  },
  {
   "cell_type": "markdown",
   "metadata": {
    "deletable": true,
    "editable": true
   },
   "source": [
    "Pour chaque epoch, la fonction passe au travers de toutes les images du jeu de donnée et met à jour les poids du réseau selon la perte calculée. On sauvegarde aussi quelques informations importantes afin de visualiser ce qui se passe pendant l'entraînement."
   ]
  },
  {
   "cell_type": "code",
   "execution_count": null,
   "metadata": {
    "collapsed": true,
    "deletable": true,
    "editable": true
   },
   "outputs": [],
   "source": [
    "def train(model, train_set, val_set, n_epoch, batch_size, lr, use_gpu=False):\n",
    "    history = History()\n",
    "    \n",
    "    criterion = nn.CrossEntropyLoss()\n",
    "    optimizer = optim.SGD(model.parameters(), lr=lr)\n",
    "    \n",
    "    for i in range(n_epoch):\n",
    "        for j in range(len(train_set) // batch_size):\n",
    "            inputs, targets = train_set.get_mini_batch(batch_size, use_gpu)\n",
    "            optimizer.zero_grad()\n",
    "            output = model(inputs)\n",
    "\n",
    "            loss = criterion(output, targets)\n",
    "            loss.backward()\n",
    "            optimizer.step()\n",
    "        \n",
    "        train_acc, train_loss = validate(model, train_set, use_gpu)\n",
    "        val_acc, val_loss = validate(model, val_set, use_gpu)\n",
    "        history.save(train_acc, val_acc, train_loss, val_loss)\n",
    "        print('Epoch {} - Train acc: {:.2f} - Val acc: {:.2f} - Train loss: {:.4f} - Val loss: {:.4f}'.format(i, train_acc, val_acc, train_loss, val_loss))\n",
    "        \n",
    "    return history"
   ]
  },
  {
   "cell_type": "markdown",
   "metadata": {
    "deletable": true,
    "editable": true
   },
   "source": [
    "Entraînons un modèle."
   ]
  },
  {
   "cell_type": "code",
   "execution_count": null,
   "metadata": {
    "collapsed": true,
    "deletable": true,
    "editable": true
   },
   "outputs": [],
   "source": [
    "model = MnistNet() # On crée le modèle\n",
    "\n",
    "# On définit les hyperparamètres\n",
    "epoch = 20\n",
    "batch_size = 32\n",
    "lr = 0.1\n",
    "\n",
    "# On entraîne le modèle\n",
    "history = train(model, train_set, val_set, epoch, batch_size, lr)"
   ]
  },
  {
   "cell_type": "markdown",
   "metadata": {
    "deletable": true,
    "editable": true
   },
   "source": [
    "La fonction suivante permet de visualiser l'entraînement précédent.\n",
    "\n",
    "Le premier graphique vous montre l'évolution de la précision du modèle sur le jeu de donnée d'entraînement et sur celui de validation. Le deuxième montre la perte sur les deux jeux de données."
   ]
  },
  {
   "cell_type": "code",
   "execution_count": null,
   "metadata": {
    "collapsed": true,
    "deletable": true,
    "editable": true
   },
   "outputs": [],
   "source": [
    "history.display()"
   ]
  },
  {
   "cell_type": "markdown",
   "metadata": {
    "deletable": true,
    "editable": true
   },
   "source": [
    "Finalement, évaluons les performances du modèle sur le jeu de données de test."
   ]
  },
  {
   "cell_type": "code",
   "execution_count": null,
   "metadata": {
    "collapsed": true,
    "deletable": true,
    "editable": true
   },
   "outputs": [],
   "source": [
    "score, loss = validate(model, test_set)\n",
    "print(score)"
   ]
  },
  {
   "cell_type": "markdown",
   "metadata": {
    "deletable": true,
    "editable": true
   },
   "source": [
    "## Différences CPU - GPU"
   ]
  },
  {
   "cell_type": "markdown",
   "metadata": {
    "deletable": true,
    "editable": true
   },
   "source": [
    "Pour faire exécuter le code sur GPU, il faut déplacer le model, les inputs et les targets sur le GPU."
   ]
  },
  {
   "cell_type": "code",
   "execution_count": null,
   "metadata": {
    "collapsed": true,
    "deletable": true,
    "editable": true
   },
   "outputs": [],
   "source": [
    "model_gpu = MnistNet()\n",
    "model_gpu.cuda()"
   ]
  },
  {
   "cell_type": "markdown",
   "metadata": {
    "deletable": true,
    "editable": true
   },
   "source": [
    "Comparons le temps d'exécution sur CPU et sur GPU\n",
    "\n",
    "Pour ce faire, nous utiliserons MNIST au complet"
   ]
  },
  {
   "cell_type": "code",
   "execution_count": null,
   "metadata": {
    "collapsed": true,
    "deletable": true,
    "editable": true
   },
   "outputs": [],
   "source": [
    "train_set = Dataset(mnist[:40000])\n",
    "val_set = Dataset(mnist[40000:])"
   ]
  },
  {
   "cell_type": "code",
   "execution_count": null,
   "metadata": {
    "collapsed": true,
    "deletable": true,
    "editable": true
   },
   "outputs": [],
   "source": [
    "epoch = 5\n",
    "batch_size = 256\n",
    "lr = 0.1"
   ]
  },
  {
   "cell_type": "markdown",
   "metadata": {
    "deletable": true,
    "editable": true
   },
   "source": [
    "Pendant l'entraînement, vérifier l'utilisation du CPU avec la commande htop."
   ]
  },
  {
   "cell_type": "code",
   "execution_count": null,
   "metadata": {
    "collapsed": true,
    "deletable": true,
    "editable": true
   },
   "outputs": [],
   "source": [
    "print('Training on CPU')\n",
    "model = MnistNet()\n",
    "criterion = nn.CrossEntropyLoss()\n",
    "optimizer = optim.SGD(model.parameters(), lr=lr)\n",
    "\n",
    "start_cpu = time.time()\n",
    "history = train(model, train_set, val_set, epoch, batch_size, lr)\n",
    "end_cpu = time.time()\n",
    "\n",
    "cpu_time = end_cpu - start_cpu"
   ]
  },
  {
   "cell_type": "markdown",
   "metadata": {
    "deletable": true,
    "editable": true
   },
   "source": [
    "Pour vous assurer que le réseau entraîne bien sur GPU, utiliser la commande \n",
    "\n",
    "watch -n 1 nvidia-smi \n",
    "\n",
    "Observer l'utilisation de la carte et la quantité de mémoire utilisée pendant l'entraînement."
   ]
  },
  {
   "cell_type": "code",
   "execution_count": null,
   "metadata": {
    "collapsed": true,
    "deletable": true,
    "editable": true
   },
   "outputs": [],
   "source": [
    "print('Training on GPU')\n",
    "model_gpu = MnistNet()\n",
    "model_gpu.cuda()\n",
    "criterion = nn.CrossEntropyLoss()\n",
    "optimizer = optim.SGD(model_gpu.parameters(), lr=lr)\n",
    "\n",
    "start_gpu = time.time()\n",
    "history_gpu = train(model_gpu, train_set, val_set, epoch, batch_size, lr, use_gpu=True)\n",
    "end_gpu = time.time()\n",
    "\n",
    "gpu_time = end_gpu - start_gpu"
   ]
  },
  {
   "cell_type": "code",
   "execution_count": null,
   "metadata": {
    "collapsed": true,
    "deletable": true,
    "editable": true
   },
   "outputs": [],
   "source": [
    "print('CPU - Training time: {:.2f}s'.format(cpu_time))\n",
    "print('GPU - Training time: {:.2f}s'.format(gpu_time))\n",
    "print('Ratio: {:.2f}x'.format((cpu_time) / (gpu_time)))"
   ]
  },
  {
   "cell_type": "markdown",
   "metadata": {
    "deletable": true,
    "editable": true
   },
   "source": [
    "## CIFAR 10\n",
    "\n",
    "CIFAR-10 est un jeu de données comportant des images séparés en 10 classe:<br>\n",
    "0 - Avion<br>\n",
    "1 - Voiture<br>\n",
    "2 - Oiseau<br>\n",
    "3 - Chat<br>\n",
    "4 - Chevreuil<br>\n",
    "5 - Chien<br>\n",
    "6 - Grenouille<br>\n",
    "7 - Cheval<br>\n",
    "8 - Bateau<br>\n",
    "9 - Camion<br>\n",
    "\n",
    "Le jeu de données contient 50000 images d'entraînement. Nous en utiliserons 40000 pour l'entraînement et 10000 pour la validation."
   ]
  },
  {
   "cell_type": "code",
   "execution_count": null,
   "metadata": {
    "collapsed": true,
    "deletable": true,
    "editable": true
   },
   "outputs": [],
   "source": [
    "cifar = load_cifar10()\n",
    "train_set = Dataset(cifar[:40000])\n",
    "val_set = Dataset(cifar[40000:])\n",
    "test_set = load_cifar10(train=False)"
   ]
  },
  {
   "cell_type": "markdown",
   "metadata": {
    "deletable": true,
    "editable": true
   },
   "source": [
    "Visualisons quelques exemples du dataset"
   ]
  },
  {
   "cell_type": "code",
   "execution_count": null,
   "metadata": {
    "collapsed": true,
    "deletable": true,
    "editable": true
   },
   "outputs": [],
   "source": [
    "label_names = [\n",
    "    'airplane',\n",
    "    'automobile',\n",
    "    'bird',\n",
    "    'cat',\n",
    "    'deer',\n",
    "    'dog',\n",
    "    'frog',\n",
    "    'horse',\n",
    "    'ship',\n",
    "    'truck'\n",
    "]\n",
    "\n",
    "idx = random.sample([x for x in range(len(train_set))], 9)\n",
    "images = [np.array(train_set[i][0]) for i in idx]\n",
    "images = np.asarray(images)\n",
    "targets = [train_set[i][1] for i in idx]\n",
    "\n",
    "plot_images(images, label_names, targets)"
   ]
  },
  {
   "cell_type": "markdown",
   "metadata": {
    "deletable": true,
    "editable": true
   },
   "source": [
    "### Exercices\n",
    "\n",
    "Utilisez les 3 cellules suivantes pour répondre aux questions."
   ]
  },
  {
   "cell_type": "code",
   "execution_count": null,
   "metadata": {
    "collapsed": true,
    "deletable": true,
    "editable": true
   },
   "outputs": [],
   "source": [
    "epoch = 5\n",
    "batch_size = 64\n",
    "lr = 0.1\n",
    "\n",
    "model= CifarNet()\n",
    "model.cuda()\n",
    "\n",
    "history = train(model, train_set, val_set, epoch, batch_size, lr, use_gpu=True)"
   ]
  },
  {
   "cell_type": "code",
   "execution_count": null,
   "metadata": {
    "collapsed": true,
    "deletable": true,
    "editable": true,
    "scrolled": true
   },
   "outputs": [],
   "source": [
    "history.display()"
   ]
  },
  {
   "cell_type": "code",
   "execution_count": null,
   "metadata": {
    "collapsed": true,
    "deletable": true,
    "editable": true
   },
   "outputs": [],
   "source": [
    "score, loss = validate(model, test_set, use_gpu=True)\n",
    "print(score)"
   ]
  },
  {
   "cell_type": "code",
   "execution_count": null,
   "metadata": {
    "collapsed": true,
    "deletable": true,
    "editable": true
   },
   "outputs": [],
   "source": []
  },
  {
   "cell_type": "markdown",
   "metadata": {
    "deletable": true,
    "editable": true
   },
   "source": [
    "### Effet du nombre d'epochs\n",
    "\n",
    "Modifier le nombre d'epochs et obverser les performances du réseau.\n",
    "\n",
    "Que se passe-t-il s'il est trop grand?<br> \n",
    "S'il est trop petit?"
   ]
  },
  {
   "cell_type": "markdown",
   "metadata": {
    "deletable": true,
    "editable": true
   },
   "source": [
    "### Effet de la taille de la batch\n",
    "\n",
    "Modifier la taille de la batch et observer l'utilisation de la carte graphique.\n",
    "\n",
    "Sur quoi est-ce que la taille de la batch semble avoir le plus d'impact?<br>\n",
    "Est-ce qu'elle impacte les performances?<br>"
   ]
  },
  {
   "cell_type": "markdown",
   "metadata": {
    "deletable": true,
    "editable": true
   },
   "source": [
    "### Effet du taux d'apprentissage (lr)\n",
    "\n",
    "Encore une fois, observer l'impact du taux d'apprentissage sur l'entraînement.\n",
    "\n",
    "Que se passe-t-il s'il est trop grand?<br> \n",
    "S'il est trop petit?"
   ]
  },
  {
   "cell_type": "markdown",
   "metadata": {
    "deletable": true,
    "editable": true
   },
   "source": [
    "### Défi\n",
    "\n",
    "Modifier les hyperparamètres pour améliorer les performances du réseau.<br>\n",
    "Êtes-vous capable d'obtenir plus de 65% en test?"
   ]
  }
 ],
 "metadata": {
  "kernelspec": {
   "display_name": "glo4030-7030",
   "language": "python",
   "name": "glo4030-7030"
  },
  "language_info": {
   "codemirror_mode": {
    "name": "ipython",
    "version": 3
   },
   "file_extension": ".py",
   "mimetype": "text/x-python",
   "name": "python",
   "nbconvert_exporter": "python",
   "pygments_lexer": "ipython3",
   "version": "3.6.4"
  }
 },
 "nbformat": 4,
 "nbformat_minor": 2
}
