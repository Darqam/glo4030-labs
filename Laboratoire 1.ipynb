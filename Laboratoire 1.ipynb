{
 "cells": [
  {
   "cell_type": "markdown",
   "metadata": {},
   "source": [
    "# Laboratoire 1: Introduction au Deep learning\n",
    "\n",
    "Le but de se laboratoire est de se familiariser avec Pytorch en l'utilisant pour faire du classement sur deux jeux de données connus: MNIST et CIFAR-10.\n",
    "\n",
    "## Mnist"
   ]
  },
  {
   "cell_type": "code",
   "execution_count": 1,
   "metadata": {
    "collapsed": true
   },
   "outputs": [],
   "source": [
    "import random\n",
    "import numpy as np\n",
    "import torch.nn as nn\n",
    "import torch.optim as optim\n",
    "import time\n",
    "import matplotlib.pyplot as plt\n",
    "%matplotlib inline\n",
    "\n",
    "from deeplib.datasets import load_mnist, load_cifar10, Dataset\n",
    "from sklearn.metrics import accuracy_score\n",
    "from deeplib.net import MnistNet, CifarNet\n",
    "from deeplib.history import History"
   ]
  },
  {
   "cell_type": "markdown",
   "metadata": {},
   "source": [
    "Mnist est jeu de données contenant des images de chiffres manuscrits.<br>\n",
    "Le jeu de donnée est séparé comme suit: 50000 images sont utilisées en entraînement et 10000 en test.<br> \n",
    "Afin d'accélérer les calculs, nous commencerons par charger uniquement 1000 images pour l'entraînement.<br>\n",
    "Nous allons aussi charger 1000 autres images pour créer un ensemble de validation qui nous permettra d'estimer, pendant l'entraînement, les capacités de généralisation de notre modèle."
   ]
  },
  {
   "cell_type": "code",
   "execution_count": 2,
   "metadata": {},
   "outputs": [],
   "source": [
    "mnist = load_mnist()\n",
    "train_set = Dataset(mnist[:1000])\n",
    "val_set = Dataset(mnist[1000:2000])\n",
    "test_set = load_mnist(train=False)"
   ]
  },
  {
   "cell_type": "markdown",
   "metadata": {},
   "source": [
    "Vous pouvez exécuter cette cellule plusieurs fois pour bien visualiser le jeu de donnée."
   ]
  },
  {
   "cell_type": "code",
   "execution_count": 4,
   "metadata": {
    "scrolled": true
   },
   "outputs": [
    {
     "name": "stdout",
     "output_type": "stream",
     "text": [
      "Target = 3\n"
     ]
    },
    {
     "data": {
      "image/png": "[encoded data removed]",
      "text/plain": [
       "<matplotlib.figure.Figure at 0x7efb9a996198>"
      ]
     },
     "metadata": {},
     "output_type": "display_data"
    }
   ],
   "source": [
    "i = random.randrange(0, len(train_set))\n",
    "img, target = train_set[i]\n",
    "plt.imshow(np.asarray(img), cmap='gray')\n",
    "print('Target = {}'.format(target))"
   ]
  },
  {
   "cell_type": "markdown",
   "metadata": {},
   "source": [
    "## Entraînement"
   ]
  },
  {
   "cell_type": "markdown",
   "metadata": {},
   "source": [
    "Pour l'entraînement, nous avons besoin d'une fonction validate qui nous permettra d'estimer la performance de notre modèle et d'une fonction train pour faire l'entraînement.\n",
    "\n",
    "Pour chaque image du jeu de donnée, la fonction validate fait prédire une classe au réseau entraîné et compare le résultat avec la vraie réponse. Elle retourne le pourcentage de réponse correcte."
   ]
  },
  {
   "cell_type": "code",
   "execution_count": 5,
   "metadata": {
    "collapsed": true
   },
   "outputs": [],
   "source": [
    "def validate(model, dataset, use_gpu=False):\n",
    "    true =[]\n",
    "    pred = []\n",
    "    val_loss = []\n",
    "    criterion = nn.CrossEntropyLoss()\n",
    "    for j in range(len(dataset) // batch_size):\n",
    "        inputs, targets = dataset.get_mini_batch(batch_size, use_gpu)\n",
    "        output = model(inputs)\n",
    "        val_loss.append(criterion(output, targets).data[0])\n",
    "        predictions = output.max(dim=1)[1]\n",
    "        true.extend(targets.data.cpu().numpy().tolist())\n",
    "        pred.extend(predictions.data.cpu().numpy().tolist())\n",
    "\n",
    "    return accuracy_score(true, pred) * 100, sum(val_loss) / len(val_loss)"
   ]
  },
  {
   "cell_type": "markdown",
   "metadata": {},
   "source": [
    "Pour chaque epoch, la fonction passe au travers de toutes les images du jeu de donnée et met à jour les poids du réseau selon la perte calculée. On sauvegarde aussi quelques informations importantes afin de visualiser ce qui se passe pendant l'entraînement."
   ]
  },
  {
   "cell_type": "code",
   "execution_count": 6,
   "metadata": {
    "collapsed": true
   },
   "outputs": [],
   "source": [
    "def train(model, n_epoch, batch_size, lr, use_gpu=False):\n",
    "    history = History()\n",
    "    \n",
    "    criterion = nn.CrossEntropyLoss()\n",
    "    optimizer = optim.SGD(model.parameters(), lr=lr)\n",
    "    \n",
    "    for i in range(n_epoch):\n",
    "        for j in range(len(train_set) // batch_size):\n",
    "            inputs, targets = train_set.get_mini_batch(batch_size, use_gpu)\n",
    "            optimizer.zero_grad()\n",
    "            output = model(inputs)\n",
    "\n",
    "            loss = criterion(output, targets)\n",
    "            loss.backward()\n",
    "            optimizer.step()\n",
    "        \n",
    "        train_acc, train_loss = validate(model, train_set, use_gpu)\n",
    "        val_acc, val_loss = validate(model, val_set, use_gpu)\n",
    "        history.save(train_acc, val_acc, train_loss, val_loss)\n",
    "        print('Epoch {} - Train acc: {:.2f} - Val acc: {:.2f} - Train loss: {:.4f} - Val loss: {:.4f}'.format(i, train_acc, val_acc, train_loss, val_loss))\n",
    "        \n",
    "    return history"
   ]
  },
  {
   "cell_type": "markdown",
   "metadata": {},
   "source": [
    "Entraînons un modèle."
   ]
  },
  {
   "cell_type": "code",
   "execution_count": 7,
   "metadata": {},
   "outputs": [
    {
     "name": "stdout",
     "output_type": "stream",
     "text": [
      "Epoch 0 - Train acc: 11.79 - Val acc: 10.79 - Train loss: 2.2752 - Val loss: 2.2792\n",
      "Epoch 1 - Train acc: 28.53 - Val acc: 27.92 - Train loss: 2.1199 - Val loss: 2.1335\n",
      "Epoch 2 - Train acc: 40.02 - Val acc: 41.03 - Train loss: 1.6018 - Val loss: 1.6528\n",
      "Epoch 3 - Train acc: 77.52 - Val acc: 74.40 - Train loss: 0.7626 - Val loss: 0.8139\n",
      "Epoch 4 - Train acc: 86.09 - Val acc: 81.15 - Train loss: 0.5174 - Val loss: 0.6050\n",
      "Epoch 5 - Train acc: 89.11 - Val acc: 83.47 - Train loss: 0.4055 - Val loss: 0.5058\n",
      "Epoch 6 - Train acc: 90.62 - Val acc: 86.39 - Train loss: 0.3023 - Val loss: 0.4382\n",
      "Epoch 7 - Train acc: 89.42 - Val acc: 82.96 - Train loss: 0.3391 - Val loss: 0.4849\n",
      "Epoch 8 - Train acc: 95.26 - Val acc: 89.82 - Train loss: 0.1658 - Val loss: 0.3401\n",
      "Epoch 9 - Train acc: 95.26 - Val acc: 88.91 - Train loss: 0.1362 - Val loss: 0.3835\n",
      "Epoch 10 - Train acc: 96.67 - Val acc: 88.91 - Train loss: 0.1200 - Val loss: 0.3703\n",
      "Epoch 11 - Train acc: 97.78 - Val acc: 90.83 - Train loss: 0.0811 - Val loss: 0.3464\n",
      "Epoch 12 - Train acc: 97.58 - Val acc: 88.81 - Train loss: 0.0937 - Val loss: 0.4058\n",
      "Epoch 13 - Train acc: 98.39 - Val acc: 90.22 - Train loss: 0.0546 - Val loss: 0.3827\n",
      "Epoch 14 - Train acc: 98.19 - Val acc: 90.12 - Train loss: 0.0516 - Val loss: 0.3732\n",
      "Epoch 15 - Train acc: 99.19 - Val acc: 90.12 - Train loss: 0.0347 - Val loss: 0.3810\n",
      "Epoch 16 - Train acc: 99.70 - Val acc: 91.23 - Train loss: 0.0199 - Val loss: 0.3538\n",
      "Epoch 17 - Train acc: 99.80 - Val acc: 92.14 - Train loss: 0.0121 - Val loss: 0.3456\n",
      "Epoch 18 - Train acc: 99.90 - Val acc: 91.43 - Train loss: 0.0091 - Val loss: 0.3604\n",
      "Epoch 19 - Train acc: 99.90 - Val acc: 91.83 - Train loss: 0.0063 - Val loss: 0.3710\n"
     ]
    }
   ],
   "source": [
    "model = MnistNet() # On crée le modèle\n",
    "\n",
    "# On définit les hyperparamètres\n",
    "epoch = 20\n",
    "batch_size = 32\n",
    "lr = 0.1\n",
    "\n",
    "# On entraîne le modèle\n",
    "history = train(model, epoch, batch_size, lr)"
   ]
  },
  {
   "cell_type": "markdown",
   "metadata": {},
   "source": [
    "La fonction suivante permet de visualiser l'entraînement précédent.\n",
    "\n",
    "Le premier graphique vous montre l'évolution de la précision du modèle sur le jeu de donnée d'entraînement et sur celui de validation. Le deuxième montre la perte sur les deux jeux de données."
   ]
  },
  {
   "cell_type": "code",
   "execution_count": 8,
   "metadata": {},
   "outputs": [
    {
     "data": {
      "image/png": "[encoded data removed]",
      "text/plain": [
       "<matplotlib.figure.Figure at 0x7efb9a985d30>"
      ]
     },
     "metadata": {},
     "output_type": "display_data"
    }
   ],
   "source": [
    "history.display()"
   ]
  },
  {
   "cell_type": "markdown",
   "metadata": {},
   "source": [
    "Finalement, évaluons les performances du modèle sur le jeu de données de test."
   ]
  },
  {
   "cell_type": "code",
   "execution_count": 9,
   "metadata": {},
   "outputs": [
    {
     "name": "stdout",
     "output_type": "stream",
     "text": [
      "92.8385416667\n"
     ]
    }
   ],
   "source": [
    "score, loss = validate(model, test_set)\n",
    "print(score)"
   ]
  },
  {
   "cell_type": "markdown",
   "metadata": {},
   "source": [
    "## Différences CPU - GPU"
   ]
  },
  {
   "cell_type": "markdown",
   "metadata": {},
   "source": [
    "Pour faire exécuter le code sur GPU, il faut déplacer le model, les inputs et les targets sur le GPU."
   ]
  },
  {
   "cell_type": "code",
   "execution_count": 10,
   "metadata": {},
   "outputs": [
    {
     "data": {
      "text/plain": [
       "MnistNet (\n",
       "  (conv1): Conv2d(1, 10, kernel_size=(3, 3), stride=(1, 1), padding=(1, 1))\n",
       "  (conv2): Conv2d(10, 50, kernel_size=(3, 3), stride=(1, 1), padding=(1, 1))\n",
       "  (fc1): Linear (2450 -> 120)\n",
       "  (fc2): Linear (120 -> 84)\n",
       "  (fc3): Linear (84 -> 10)\n",
       ")"
      ]
     },
     "execution_count": 10,
     "metadata": {},
     "output_type": "execute_result"
    }
   ],
   "source": [
    "model_gpu = MnistNet()\n",
    "model_gpu.cuda()"
   ]
  },
  {
   "cell_type": "markdown",
   "metadata": {},
   "source": [
    "Comparons le temps d'exécution sur CPU et sur GPU\n",
    "\n",
    "Pour ce faire, nous utiliserons MNIST au complet"
   ]
  },
  {
   "cell_type": "code",
   "execution_count": 11,
   "metadata": {
    "collapsed": true
   },
   "outputs": [],
   "source": [
    "train_set = Dataset(mnist[:40000])\n",
    "val_set = Dataset(mnist[40000:])"
   ]
  },
  {
   "cell_type": "code",
   "execution_count": 12,
   "metadata": {
    "collapsed": true
   },
   "outputs": [],
   "source": [
    "epoch = 5\n",
    "batch_size = 256\n",
    "lr = 0.1"
   ]
  },
  {
   "cell_type": "markdown",
   "metadata": {},
   "source": [
    "Pendant l'entraînement, vérifier l'utilisation du CPU avec la commande htop."
   ]
  },
  {
   "cell_type": "code",
   "execution_count": 14,
   "metadata": {},
   "outputs": [
    {
     "name": "stdout",
     "output_type": "stream",
     "text": [
      "Training on CPU\n",
      "Epoch 0 - Train acc: 82.77 - Val acc: 83.53 - Train loss: 0.4870 - Val loss: 0.4718\n",
      "Epoch 1 - Train acc: 93.91 - Val acc: 93.89 - Train loss: 0.1965 - Val loss: 0.1964\n",
      "Epoch 2 - Train acc: 95.87 - Val acc: 95.38 - Train loss: 0.1324 - Val loss: 0.1423\n",
      "Epoch 3 - Train acc: 96.29 - Val acc: 95.91 - Train loss: 0.1144 - Val loss: 0.1265\n",
      "Epoch 4 - Train acc: 96.93 - Val acc: 96.46 - Train loss: 0.0956 - Val loss: 0.1143\n"
     ]
    }
   ],
   "source": [
    "print('Training on CPU')\n",
    "model = MnistNet()\n",
    "criterion = nn.CrossEntropyLoss()\n",
    "optimizer = optim.SGD(model.parameters(), lr=lr)\n",
    "\n",
    "start_cpu = time.time()\n",
    "history = train(model, epoch, batch_size, lr)\n",
    "end_cpu = time.time()\n",
    "\n",
    "cpu_time = end_cpu - start_cpu"
   ]
  },
  {
   "cell_type": "markdown",
   "metadata": {},
   "source": [
    "Pour vous assurer que le réseau entraîne bien sur GPU, utiliser la commande \n",
    "\n",
    "watch -n 1 nvidia-smi \n",
    "\n",
    "Observer l'utilisation de la carte et la quantité de mémoire utilisée pendant l'entraînement."
   ]
  },
  {
   "cell_type": "code",
   "execution_count": 17,
   "metadata": {},
   "outputs": [
    {
     "name": "stdout",
     "output_type": "stream",
     "text": [
      "Training on GPU\n",
      "Epoch 0 - Train acc: 67.26 - Val acc: 67.94 - Train loss: 0.9635 - Val loss: 0.9407\n",
      "Epoch 1 - Train acc: 93.18 - Val acc: 93.09 - Train loss: 0.2307 - Val loss: 0.2294\n",
      "Epoch 2 - Train acc: 95.67 - Val acc: 95.28 - Train loss: 0.1404 - Val loss: 0.1510\n",
      "Epoch 3 - Train acc: 96.82 - Val acc: 96.25 - Train loss: 0.1033 - Val loss: 0.1194\n",
      "Epoch 4 - Train acc: 96.99 - Val acc: 96.59 - Train loss: 0.0929 - Val loss: 0.1115\n"
     ]
    }
   ],
   "source": [
    "print('Training on GPU')\n",
    "model_gpu = MnistNet()\n",
    "model_gpu.cuda()\n",
    "criterion = nn.CrossEntropyLoss()\n",
    "optimizer = optim.SGD(model_gpu.parameters(), lr=lr)\n",
    "\n",
    "start_gpu = time.time()\n",
    "history_gpu = train(model_gpu, epoch, batch_size, lr, use_gpu=True)\n",
    "end_gpu = time.time()\n",
    "\n",
    "gpu_time = end_gpu - start_gpu"
   ]
  },
  {
   "cell_type": "code",
   "execution_count": 18,
   "metadata": {},
   "outputs": [
    {
     "name": "stdout",
     "output_type": "stream",
     "text": [
      "CPU - Training time: 165.42s\n",
      "GPU - Training time: 21.44s\n",
      "Ratio: 7.71x\n"
     ]
    }
   ],
   "source": [
    "print('CPU - Training time: {:.2f}s'.format(cpu_time))\n",
    "print('GPU - Training time: {:.2f}s'.format(gpu_time))\n",
    "print('Ratio: {:.2f}x'.format((cpu_time) / (gpu_time)))"
   ]
  },
  {
   "cell_type": "markdown",
   "metadata": {},
   "source": [
    "## CIFAR 10\n",
    "\n",
    "CIFAR-10 est un jeu de données comportant des images séparés en 10 classe:<br>\n",
    "0 - Avion<br>\n",
    "1 - Voiture<br>\n",
    "2 - Oiseau<br>\n",
    "3 - Chat<br>\n",
    "4 - Chevreuil<br>\n",
    "5 - Chien<br>\n",
    "6 - Grenouille<br>\n",
    "7 - Cheval<br>\n",
    "8 - Bateau<br>\n",
    "9 - Camion<br>\n",
    "\n",
    "Le jeu de données contient 50000 images d'entraînement. Nous en utiliserons 40000 pour l'entraînement et 10000 pour la validation."
   ]
  },
  {
   "cell_type": "code",
   "execution_count": 19,
   "metadata": {
    "collapsed": true
   },
   "outputs": [],
   "source": [
    "cifar = load_cifar10()\n",
    "train_set = Dataset(cifar[:40000])\n",
    "val_set = Dataset(cifar[40000:])\n",
    "test_set = load_cifar10(train=False)"
   ]
  },
  {
   "cell_type": "markdown",
   "metadata": {},
   "source": [
    "Encore une fois, vous pouvez exécuter cette cellule plusieurs fois pour visualiser le jeu de données."
   ]
  },
  {
   "cell_type": "code",
   "execution_count": 27,
   "metadata": {},
   "outputs": [
    {
     "name": "stdout",
     "output_type": "stream",
     "text": [
      "Target = 8\n"
     ]
    },
    {
     "data": {
      "image/png": "[encoded data removed]",
      "text/plain": [
       "<matplotlib.figure.Figure at 0x7efb9da86198>"
      ]
     },
     "metadata": {},
     "output_type": "display_data"
    }
   ],
   "source": [
    "i = random.randrange(0, len(train_set))\n",
    "img, target = train_set[i]\n",
    "plt.imshow(np.asarray(img))\n",
    "print('Target = {}'.format(target))"
   ]
  },
  {
   "cell_type": "markdown",
   "metadata": {},
   "source": [
    "### Exercices\n",
    "\n",
    "Utilisez les 3 cellules suivantes pour répondre aux questions."
   ]
  },
  {
   "cell_type": "code",
   "execution_count": 33,
   "metadata": {},
   "outputs": [
    {
     "name": "stdout",
     "output_type": "stream",
     "text": [
      "Epoch 0 - Train acc: 9.95 - Val acc: 10.23 - Train loss: 2.3042 - Val loss: 2.3038\n",
      "Epoch 1 - Train acc: 9.95 - Val acc: 10.23 - Train loss: 2.3042 - Val loss: 2.3037\n",
      "Epoch 2 - Train acc: 9.95 - Val acc: 10.24 - Train loss: 2.3042 - Val loss: 2.3037\n",
      "Epoch 3 - Train acc: 9.95 - Val acc: 10.24 - Train loss: 2.3042 - Val loss: 2.3037\n",
      "Epoch 4 - Train acc: 9.95 - Val acc: 10.22 - Train loss: 2.3042 - Val loss: 2.3037\n"
     ]
    }
   ],
   "source": [
    "epoch = 5\n",
    "batch_size = 64\n",
    "lr = 0.1\n",
    "\n",
    "model= CifarNet()\n",
    "model.cuda()\n",
    "\n",
    "history = train(model, epoch, batch_size, lr, use_gpu=True)"
   ]
  },
  {
   "cell_type": "code",
   "execution_count": 30,
   "metadata": {
    "scrolled": true
   },
   "outputs": [
    {
     "data": {
      "image/png": "[encoded data removed]",
      "text/plain": [
       "<matplotlib.figure.Figure at 0x7efb7c67dcf8>"
      ]
     },
     "metadata": {},
     "output_type": "display_data"
    }
   ],
   "source": [
    "history.display()"
   ]
  },
  {
   "cell_type": "code",
   "execution_count": 31,
   "metadata": {},
   "outputs": [
    {
     "name": "stdout",
     "output_type": "stream",
     "text": [
      "58.4234775641\n"
     ]
    }
   ],
   "source": [
    "score, loss = validate(model, test_set, use_gpu=True)\n",
    "print(score)"
   ]
  },
  {
   "cell_type": "markdown",
   "metadata": {},
   "source": [
    "### Effet du nombre d'epochs\n",
    "\n",
    "Modifier le nombre d'epochs et obverser les performances du réseau.\n",
    "\n",
    "Que se passe-t-il s'il est trop grand?<br> \n",
    "S'il est trop petit?"
   ]
  },
  {
   "cell_type": "markdown",
   "metadata": {},
   "source": [
    "### Effet de la taille de la batch\n",
    "\n",
    "Modifier la taille de la batch et observer l'utilisation de la carte graphique.\n",
    "\n",
    "Sur quoi est-ce que la taille de la batch semble avoir le plus d'impact?<br>\n",
    "Est-ce qu'elle impacte les performances?<br>"
   ]
  },
  {
   "cell_type": "markdown",
   "metadata": {},
   "source": [
    "### Effet du taux d'apprentissage (lr)\n",
    "\n",
    "Encore une fois, observer l'impact du taux d'apprentissage sur l'entraînement.\n",
    "\n",
    "Que se passe-t-il s'il est trop grand?<br> \n",
    "S'il est trop petit?"
   ]
  },
  {
   "cell_type": "markdown",
   "metadata": {},
   "source": [
    "### Défi\n",
    "\n",
    "Modifier les hyperparamètres pour améliorer les performances du réseau.<br>\n",
    "Êtes-vous capable d'obtenir plus de 65% en test?"
   ]
  }
 ],
 "metadata": {
  "kernelspec": {
   "display_name": "Python 3",
   "language": "python",
   "name": "python3"
  },
  "language_info": {
   "codemirror_mode": {
    "name": "ipython",
    "version": 3
   },
   "file_extension": ".py",
   "mimetype": "text/x-python",
   "name": "python",
   "nbconvert_exporter": "python",
   "pygments_lexer": "ipython3",
   "version": "3.6.3"
  }
 },
 "nbformat": 4,
 "nbformat_minor": 2
}
